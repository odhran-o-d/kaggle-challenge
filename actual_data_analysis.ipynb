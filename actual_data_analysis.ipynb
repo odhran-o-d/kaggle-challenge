{
 "cells": [
  {
   "cell_type": "code",
   "execution_count": 14,
   "metadata": {},
   "outputs": [],
   "source": [
    "import pandas as pd\n",
    "import numpy as np\n",
    "import datatable as dt\n",
    "import time\n",
    "from sklearn.impute import SimpleImputer\n",
    "import matplotlib.pyplot as plt\n",
    "import seaborn as sns\n",
    "from sklearn.manifold import TSNE\n",
    "from sklearn.decomposition import PCA, TruncatedSVD\n",
    "from mpl_toolkits.mplot3d import Axes3D"
   ]
  },
  {
   "cell_type": "markdown",
   "metadata": {},
   "source": [
    "## load the data"
   ]
  },
  {
   "cell_type": "code",
   "execution_count": 15,
   "metadata": {},
   "outputs": [],
   "source": [
    "x_train = dt.fread('train.csv/train.csv')\n",
    "y_train = dt.fread('train.labels.csv')\n",
    "x_test = dt.fread('test.csv/test.csv')"
   ]
  },
  {
   "cell_type": "code",
   "execution_count": 16,
   "metadata": {},
   "outputs": [
    {
     "name": "stdout",
     "output_type": "stream",
     "text": "The first 10 rows of the trainging dataset:\n"
    },
    {
     "data": {
      "text/html": "<div class='datatable'>\n  <table class='frame'>\n  <thead>\n    <tr class='colnames'><td class='row_index'></td><th>SNP1</th><th>SNP2</th><th>SNP3</th><th>SNP4</th><th>SNP5</th><th>SNP6</th><th>SNP7</th><th>SNP8</th><th>SNP9</th><th>SNP10</th><th class='vellipsis'>&hellip;</th><th>SNP199996</th><th>SNP199997</th><th>SNP199998</th><th>SNP199999</th><th>SNP200000</th></tr>\n    <tr class='coltypes'><td class='row_index'></td><td class='int' title='int32'>&#x25AA;&#x25AA;&#x25AA;&#x25AA;</td><td class='int' title='int32'>&#x25AA;&#x25AA;&#x25AA;&#x25AA;</td><td class='int' title='int32'>&#x25AA;&#x25AA;&#x25AA;&#x25AA;</td><td class='int' title='int32'>&#x25AA;&#x25AA;&#x25AA;&#x25AA;</td><td class='int' title='int32'>&#x25AA;&#x25AA;&#x25AA;&#x25AA;</td><td class='int' title='int32'>&#x25AA;&#x25AA;&#x25AA;&#x25AA;</td><td class='int' title='int32'>&#x25AA;&#x25AA;&#x25AA;&#x25AA;</td><td class='int' title='int32'>&#x25AA;&#x25AA;&#x25AA;&#x25AA;</td><td class='int' title='int32'>&#x25AA;&#x25AA;&#x25AA;&#x25AA;</td><td class='int' title='int32'>&#x25AA;&#x25AA;&#x25AA;&#x25AA;</td><td></td><td class='int' title='int32'>&#x25AA;&#x25AA;&#x25AA;&#x25AA;</td><td class='int' title='int32'>&#x25AA;&#x25AA;&#x25AA;&#x25AA;</td><td class='int' title='int32'>&#x25AA;&#x25AA;&#x25AA;&#x25AA;</td><td class='int' title='int32'>&#x25AA;&#x25AA;&#x25AA;&#x25AA;</td><td class='int' title='int32'>&#x25AA;&#x25AA;&#x25AA;&#x25AA;</td></tr>\n  </thead>\n  <tbody>\n    <tr><td class='row_index'>0</td><td>2</td><td>2</td><td>2</td><td>2</td><td>2</td><td>2</td><td>2</td><td>2</td><td>2</td><td>2</td><td class=vellipsis>&hellip;</td><td>2</td><td>2</td><td>1</td><td>1</td><td>2</td></tr>\n    <tr><td class='row_index'>1</td><td>2</td><td>2</td><td>1</td><td>2</td><td>1</td><td>2</td><td>2</td><td>2</td><td>2</td><td>2</td><td class=vellipsis>&hellip;</td><td>2</td><td>2</td><td>1</td><td>1</td><td>2</td></tr>\n    <tr><td class='row_index'>2</td><td>2</td><td>2</td><td>2</td><td>1</td><td>2</td><td>2</td><td>2</td><td>1</td><td>1</td><td>2</td><td class=vellipsis>&hellip;</td><td>2</td><td>2</td><td>1</td><td>1</td><td>2</td></tr>\n    <tr><td class='row_index'>3</td><td>2</td><td>2</td><td>2</td><td>2</td><td>2</td><td>2</td><td>2</td><td>2</td><td>2</td><td>2</td><td class=vellipsis>&hellip;</td><td>0</td><td>0</td><td>2</td><td>2</td><td>2</td></tr>\n    <tr><td class='row_index'>4</td><td>2</td><td>2</td><td>1</td><td>2</td><td>2</td><td>2</td><td>2</td><td>1</td><td>1</td><td>2</td><td class=vellipsis>&hellip;</td><td>2</td><td>2</td><td>1</td><td>1</td><td>2</td></tr>\n    <tr><td class='row_index'>5</td><td>2</td><td>2</td><td>2</td><td>2</td><td>2</td><td>2</td><td>2</td><td>2</td><td>2</td><td>2</td><td class=vellipsis>&hellip;</td><td>2</td><td>2</td><td>2</td><td>2</td><td>1</td></tr>\n    <tr><td class='row_index'>6</td><td>2</td><td>2</td><td>2</td><td>2</td><td>2</td><td>2</td><td>2</td><td>2</td><td>2</td><td>2</td><td class=vellipsis>&hellip;</td><td>2</td><td>2</td><td>1</td><td>1</td><td>2</td></tr>\n    <tr><td class='row_index'>7</td><td>2</td><td>2</td><td>2</td><td>1</td><td>2</td><td>2</td><td>2</td><td>2</td><td>2</td><td>2</td><td class=vellipsis>&hellip;</td><td>2</td><td>2</td><td>1</td><td>1</td><td>1</td></tr>\n    <tr><td class='row_index'>8</td><td>2</td><td>2</td><td>1</td><td>2</td><td>2</td><td>2</td><td>2</td><td>2</td><td>2</td><td>2</td><td class=vellipsis>&hellip;</td><td>1</td><td>1</td><td>2</td><td>2</td><td>1</td></tr>\n    <tr><td class='row_index'>9</td><td>2</td><td>2</td><td>2</td><td>2</td><td>2</td><td>2</td><td>2</td><td>2</td><td>2</td><td>2</td><td class=vellipsis>&hellip;</td><td>1</td><td>2</td><td>2</td><td>2</td><td>2</td></tr>\n  </tbody>\n  </table>\n  <div class='footer'>\n    <div class='frame_dimensions'>10 rows &times; 200,000 columns</div>\n  </div>\n</div>\n",
      "text/plain": ""
     },
     "execution_count": 16,
     "metadata": {},
     "output_type": "execute_result"
    }
   ],
   "source": [
    "print('The first 10 rows of the trainging dataset:')\n",
    "x_train.head()"
   ]
  },
  {
   "cell_type": "code",
   "execution_count": 17,
   "metadata": {},
   "outputs": [
    {
     "data": {
      "text/html": "<div class='datatable'>\n  <table class='frame'>\n  <thead>\n    <tr class='colnames'><td class='row_index'></td><th>Population</th></tr>\n    <tr class='coltypes'><td class='row_index'></td><td class='str' title='str32'>&#x25AA;&#x25AA;&#x25AA;&#x25AA;</td></tr>\n  </thead>\n  <tbody>\n    <tr><td class='row_index'>0</td><td>IBS</td></tr>\n    <tr><td class='row_index'>1</td><td>CHB</td></tr>\n    <tr><td class='row_index'>2</td><td>GWD</td></tr>\n    <tr><td class='row_index'>3</td><td>GBR</td></tr>\n    <tr><td class='row_index'>4</td><td>PEL</td></tr>\n    <tr><td class='row_index'>5</td><td>CEU</td></tr>\n    <tr><td class='row_index'>6</td><td>CDX</td></tr>\n    <tr><td class='row_index'>7</td><td>BEB</td></tr>\n    <tr><td class='row_index'>8</td><td>MXL</td></tr>\n    <tr><td class='row_index'>9</td><td>PUR</td></tr>\n  </tbody>\n  </table>\n  <div class='footer'>\n    <div class='frame_dimensions'>10 rows &times; 1 column</div>\n  </div>\n</div>\n",
      "text/plain": ""
     },
     "execution_count": 17,
     "metadata": {},
     "output_type": "execute_result"
    }
   ],
   "source": [
    "y_train.head()"
   ]
  },
  {
   "cell_type": "code",
   "execution_count": 25,
   "metadata": {},
   "outputs": [
    {
     "data": {
      "text/html": "<div class='datatable'>\n  <table class='frame'>\n  <thead>\n    <tr class='colnames'><td class='row_index'></td><th>Population</th></tr>\n    <tr class='coltypes'><td class='row_index'></td><td class='int' title='int64'>&#x25AA;&#x25AA;&#x25AA;&#x25AA;&#x25AA;&#x25AA;&#x25AA;&#x25AA;</td></tr>\n  </thead>\n  <tbody>\n    <tr><td class='row_index'>0</td><td>26</td></tr>\n  </tbody>\n  </table>\n  <div class='footer'>\n    <div class='frame_dimensions'>1 row &times; 1 column</div>\n  </div>\n</div>\n",
      "text/plain": ""
     },
     "execution_count": 25,
     "metadata": {},
     "output_type": "execute_result"
    }
   ],
   "source": [
    "y_train.nunique()"
   ]
  },
  {
   "cell_type": "code",
   "execution_count": 18,
   "metadata": {},
   "outputs": [
    {
     "data": {
      "text/html": "<div class='datatable'>\n  <table class='frame'>\n  <thead>\n    <tr class='colnames'><td class='row_index'></td><th>SNP1</th><th>SNP2</th><th>SNP3</th><th>SNP4</th><th>SNP5</th><th>SNP6</th><th>SNP7</th><th>SNP8</th><th>SNP9</th><th>SNP10</th><th class='vellipsis'>&hellip;</th><th>SNP199996</th><th>SNP199997</th><th>SNP199998</th><th>SNP199999</th><th>SNP200000</th></tr>\n    <tr class='coltypes'><td class='row_index'></td><td class='int' title='int32'>&#x25AA;&#x25AA;&#x25AA;&#x25AA;</td><td class='int' title='int32'>&#x25AA;&#x25AA;&#x25AA;&#x25AA;</td><td class='int' title='int32'>&#x25AA;&#x25AA;&#x25AA;&#x25AA;</td><td class='int' title='int32'>&#x25AA;&#x25AA;&#x25AA;&#x25AA;</td><td class='int' title='int32'>&#x25AA;&#x25AA;&#x25AA;&#x25AA;</td><td class='int' title='int32'>&#x25AA;&#x25AA;&#x25AA;&#x25AA;</td><td class='int' title='int32'>&#x25AA;&#x25AA;&#x25AA;&#x25AA;</td><td class='int' title='int32'>&#x25AA;&#x25AA;&#x25AA;&#x25AA;</td><td class='int' title='int32'>&#x25AA;&#x25AA;&#x25AA;&#x25AA;</td><td class='int' title='int32'>&#x25AA;&#x25AA;&#x25AA;&#x25AA;</td><td></td><td class='int' title='int32'>&#x25AA;&#x25AA;&#x25AA;&#x25AA;</td><td class='int' title='int32'>&#x25AA;&#x25AA;&#x25AA;&#x25AA;</td><td class='int' title='int32'>&#x25AA;&#x25AA;&#x25AA;&#x25AA;</td><td class='int' title='int32'>&#x25AA;&#x25AA;&#x25AA;&#x25AA;</td><td class='int' title='int32'>&#x25AA;&#x25AA;&#x25AA;&#x25AA;</td></tr>\n  </thead>\n  <tbody>\n    <tr><td class='row_index'>0</td><td>2</td><td>1</td><td>2</td><td>2</td><td>2</td><td>2</td><td>2</td><td>2</td><td>2</td><td>2</td><td class=vellipsis>&hellip;</td><td>2</td><td>2</td><td>1</td><td>1</td><td>2</td></tr>\n    <tr><td class='row_index'>1</td><td>2</td><td>2</td><td>2</td><td>2</td><td>2</td><td>2</td><td>2</td><td>2</td><td>2</td><td>2</td><td class=vellipsis>&hellip;</td><td>2</td><td>2</td><td>1</td><td>1</td><td>2</td></tr>\n    <tr><td class='row_index'>2</td><td>2</td><td>2</td><td>1</td><td>2</td><td>2</td><td>2</td><td>2</td><td>2</td><td>2</td><td>2</td><td class=vellipsis>&hellip;</td><td>2</td><td>2</td><td>1</td><td>1</td><td>2</td></tr>\n    <tr><td class='row_index'>3</td><td>2</td><td>2</td><td>2</td><td>1</td><td>2</td><td>2</td><td>2</td><td>2</td><td>2</td><td>2</td><td class=vellipsis>&hellip;</td><td>2</td><td>2</td><td>2</td><td>2</td><td>0</td></tr>\n    <tr><td class='row_index'>4</td><td>2</td><td>2</td><td>2</td><td>2</td><td>2</td><td>2</td><td>2</td><td>2</td><td>2</td><td>2</td><td class=vellipsis>&hellip;</td><td>1</td><td>1</td><td>2</td><td>2</td><td>2</td></tr>\n    <tr><td class='row_index'>5</td><td>2</td><td>2</td><td>2</td><td>2</td><td>2</td><td>2</td><td>2</td><td>2</td><td>2</td><td>2</td><td class=vellipsis>&hellip;</td><td>1</td><td>1</td><td>1</td><td>1</td><td>2</td></tr>\n    <tr><td class='row_index'>6</td><td>2</td><td>2</td><td>1</td><td>2</td><td>2</td><td>2</td><td>2</td><td>0</td><td>0</td><td>2</td><td class=vellipsis>&hellip;</td><td>2</td><td>2</td><td>2</td><td>2</td><td>2</td></tr>\n    <tr><td class='row_index'>7</td><td>2</td><td>2</td><td>2</td><td>2</td><td>2</td><td>2</td><td>2</td><td>1</td><td>2</td><td>2</td><td class=vellipsis>&hellip;</td><td>2</td><td>2</td><td>0</td><td>0</td><td>2</td></tr>\n    <tr><td class='row_index'>8</td><td>2</td><td>2</td><td>1</td><td>2</td><td>2</td><td>2</td><td>2</td><td>1</td><td>1</td><td>2</td><td class=vellipsis>&hellip;</td><td>2</td><td>2</td><td>1</td><td>1</td><td>2</td></tr>\n    <tr><td class='row_index'>9</td><td>2</td><td>2</td><td>2</td><td>2</td><td>1</td><td>2</td><td>2</td><td>1</td><td>2</td><td>2</td><td class=vellipsis>&hellip;</td><td>2</td><td>2</td><td>1</td><td>1</td><td>2</td></tr>\n  </tbody>\n  </table>\n  <div class='footer'>\n    <div class='frame_dimensions'>10 rows &times; 200,000 columns</div>\n  </div>\n</div>\n",
      "text/plain": ""
     },
     "execution_count": 18,
     "metadata": {},
     "output_type": "execute_result"
    }
   ],
   "source": [
    "x_test.head()"
   ]
  },
  {
   "cell_type": "code",
   "execution_count": 19,
   "metadata": {},
   "outputs": [
    {
     "name": "stdout",
     "output_type": "stream",
     "text": "the training dataset has the size (1252, 200000)\nthe test dataset has the size (1252, 200000)\n"
    }
   ],
   "source": [
    "print('the training dataset has the size', x_train.shape)\n",
    "print('the test dataset has the size', x_test.shape)"
   ]
  },
  {
   "cell_type": "markdown",
   "metadata": {},
   "source": [
    "## data processing"
   ]
  },
  {
   "cell_type": "code",
   "execution_count": 20,
   "metadata": {},
   "outputs": [],
   "source": [
    "# data normalization\n",
    "# Imputation of the train data\n",
    "imp = SimpleImputer(missing_values = -2, strategy = 'mean')\n",
    "X_norm = imp.fit_transform(x_train)"
   ]
  },
  {
   "cell_type": "code",
   "execution_count": 21,
   "metadata": {},
   "outputs": [],
   "source": [
    "# dimension reduction \n",
    "\n",
    "time_start = time.time()\n",
    "pca = PCA(n_components=2)\n",
    "X_reduced=pca.fit_transform(X_norm)"
   ]
  },
  {
   "cell_type": "code",
   "execution_count": null,
   "metadata": {},
   "outputs": [],
   "source": [
    "# plotting the PCA\n",
    "\n",
    "from kaggle_functions import plot_myReducedDim"
   ]
  },
  {
   "cell_type": "code",
   "execution_count": null,
   "metadata": {},
   "outputs": [],
   "source": [
    "plot_myReducedDim(X_reduced, y_train, "
   ]
  }
 ],
 "metadata": {
  "kernelspec": {
   "display_name": "Python 3",
   "language": "python",
   "name": "python3"
  },
  "language_info": {
   "codemirror_mode": {
    "name": "ipython",
    "version": 3
   },
   "file_extension": ".py",
   "mimetype": "text/x-python",
   "name": "python",
   "nbconvert_exporter": "python",
   "pygments_lexer": "ipython3",
   "version": "3.7.3"
  },
  "pycharm": {
   "stem_cell": {
    "cell_type": "raw",
    "source": [],
    "metadata": {
     "collapsed": false
    }
   }
  }
 },
 "nbformat": 4,
 "nbformat_minor": 2
}